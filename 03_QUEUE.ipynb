{
 "cells": [
  {
   "cell_type": "markdown",
   "id": "7bc44cb5",
   "metadata": {},
   "source": [
    "\n",
    "# QUEUE\n"
   ]
  },
  {
   "cell_type": "markdown",
   "id": "8f5d9a8e",
   "metadata": {},
   "source": [
    "LINER DATA STRUCTURE\n",
    "\n",
    "FOLLOW FIFO: FIRST IN FIRST OUT\n",
    "\n",
    "INSERTION CAN TAKE PLACE FROM THE REAR END.\n",
    "\n",
    "DELETOIN CAN TAKE PLACE FROM THE FRONT END.\n",
    "\n",
    "\n",
    "\n",
    "### FOUR MAJOR OPERATION:\n",
    "     \n",
    "   enqueue(ele) - used to insert element at top\n",
    "        \n",
    "   dequeue() - remmoves the top element from queue\n",
    "        \n",
    "   peekfirst() - to get the first elements of queue\n",
    "        \n",
    "   peeklast() - to get the last elements of queue\n"
   ]
  },
  {
   "cell_type": "code",
   "execution_count": 18,
   "id": "f733ac5c",
   "metadata": {},
   "outputs": [
    {
     "name": "stdout",
     "output_type": "stream",
     "text": [
      "Initial queue\n",
      "[]\n",
      "After enqueue\n",
      "[1, 2, 3, 4, 5]\n",
      "After dequeue\n",
      "[]\n"
     ]
    }
   ],
   "source": [
    "Queue = []\n",
    "print(\"Initial queue\")\n",
    "print(Queue)\n",
    "\n",
    "Queue.append(1)\n",
    "Queue.append(2)\n",
    "Queue.append(3)\n",
    "Queue.append(4)\n",
    "Queue.append(5)\n",
    "print(\"After enqueue\")\n",
    "print(Queue)\n",
    "\n",
    "Queue.pop(0)\n",
    "Queue.pop(0)\n",
    "Queue.pop(0)\n",
    "Queue.pop(0)\n",
    "Queue.pop(0)\n",
    "print(\"After dequeue\")\n",
    "print(Queue)\n"
   ]
  },
  {
   "cell_type": "code",
   "execution_count": 4,
   "id": "11bc0590",
   "metadata": {},
   "outputs": [],
   "source": [
    "class Queue:\n",
    "    def __init__(self):\n",
    "        self.queue = []\n",
    "    def enqueu(self,item):\n",
    "        self.queue.append(item)\n",
    "    def dequeue(self):\n",
    "        if len(self.queue) < 1:\n",
    "            return None\n",
    "        return self.queue.pop(0)\n",
    "    def display(self):\n",
    "        print(self.queue)\n",
    "    def size(self):\n",
    "        return len(self.queue)"
   ]
  },
  {
   "cell_type": "code",
   "execution_count": 6,
   "id": "d8b70f7a",
   "metadata": {},
   "outputs": [],
   "source": [
    "q = Queue()"
   ]
  },
  {
   "cell_type": "code",
   "execution_count": 7,
   "id": "6be7519c",
   "metadata": {},
   "outputs": [],
   "source": [
    "q.enqueu(1)\n",
    "q.enqueu(2)\n",
    "q.enqueu(3)"
   ]
  },
  {
   "cell_type": "code",
   "execution_count": 8,
   "id": "c979c483",
   "metadata": {},
   "outputs": [
    {
     "name": "stdout",
     "output_type": "stream",
     "text": [
      "[1, 2, 3]\n"
     ]
    }
   ],
   "source": [
    "q.display()"
   ]
  },
  {
   "cell_type": "code",
   "execution_count": 9,
   "id": "fa72ebf8",
   "metadata": {},
   "outputs": [
    {
     "data": {
      "text/plain": [
       "1"
      ]
     },
     "execution_count": 9,
     "metadata": {},
     "output_type": "execute_result"
    }
   ],
   "source": [
    "q.dequeue()"
   ]
  },
  {
   "cell_type": "code",
   "execution_count": 10,
   "id": "a3a6f00a",
   "metadata": {},
   "outputs": [
    {
     "name": "stdout",
     "output_type": "stream",
     "text": [
      "[2, 3]\n"
     ]
    }
   ],
   "source": [
    "q.display()"
   ]
  },
  {
   "cell_type": "code",
   "execution_count": 11,
   "id": "f1eaa58b",
   "metadata": {},
   "outputs": [
    {
     "data": {
      "text/plain": [
       "2"
      ]
     },
     "execution_count": 11,
     "metadata": {},
     "output_type": "execute_result"
    }
   ],
   "source": [
    "q.size()"
   ]
  },
  {
   "cell_type": "code",
   "execution_count": 22,
   "id": "7bc791e5",
   "metadata": {},
   "outputs": [
    {
     "name": "stdout",
     "output_type": "stream",
     "text": [
      "Initial queue\n",
      "deque(['a', 'b', 'c'])\n",
      "\n",
      "Elements dequeued from the queue\n",
      "a\n",
      "b\n",
      "c\n",
      "\n",
      "Queue after removing elements\n",
      "deque([])\n"
     ]
    }
   ],
   "source": [
    "from collections import deque\n",
    "q = deque()\n",
    "\n",
    "\n",
    "q.append('a')\n",
    "q.append('b')\n",
    "q.append('c')\n",
    "\n",
    "print(\"Initial queue\")\n",
    "print(q)\n",
    "\n",
    "\n",
    "print(\"\\nElements dequeued from the queue\")\n",
    "print(q.popleft())\n",
    "print(q.popleft())\n",
    "print(q.popleft())\n",
    "\n",
    "print(\"\\nQueue after removing elements\")\n",
    "print(q)\n",
    "\n"
   ]
  },
  {
   "cell_type": "code",
   "execution_count": 27,
   "id": "55e0e723",
   "metadata": {},
   "outputs": [
    {
     "name": "stdout",
     "output_type": "stream",
     "text": [
      "0\n",
      "\n",
      "Full:  True\n",
      "\n",
      "Elements dequeued from the queue\n",
      "a\n",
      "b\n",
      "c\n",
      "\n",
      "Empty:  True\n",
      "\n",
      "Empty:  False\n",
      "Full:  False\n"
     ]
    },
    {
     "ename": "NameError",
     "evalue": "name 'qsize' is not defined",
     "output_type": "error",
     "traceback": [
      "\u001b[1;31m-----------------------------------\u001b[0m",
      "\u001b[1;31mNameError\u001b[0mTraceback (most recent call last)",
      "Input \u001b[1;32mIn [27]\u001b[0m, in \u001b[0;36m<module>\u001b[1;34m\u001b[0m\n\u001b[0;32m     24\u001b[0m \u001b[38;5;28mprint\u001b[39m(\u001b[38;5;124m\"\u001b[39m\u001b[38;5;130;01m\\n\u001b[39;00m\u001b[38;5;124mEmpty: \u001b[39m\u001b[38;5;124m\"\u001b[39m, q\u001b[38;5;241m.\u001b[39mempty())\n\u001b[0;32m     25\u001b[0m \u001b[38;5;28mprint\u001b[39m(\u001b[38;5;124m\"\u001b[39m\u001b[38;5;124mFull: \u001b[39m\u001b[38;5;124m\"\u001b[39m, q\u001b[38;5;241m.\u001b[39mfull())\n\u001b[1;32m---> 26\u001b[0m \u001b[38;5;28mprint\u001b[39m (\u001b[38;5;124m\"\u001b[39m\u001b[38;5;124mSize\u001b[39m\u001b[38;5;124m\"\u001b[39m,\u001b[43mqsize\u001b[49m(q))\n",
      "\u001b[1;31mNameError\u001b[0m: name 'qsize' is not defined"
     ]
    }
   ],
   "source": [
    "from queue import Queue\n",
    "\n",
    "q = Queue(maxsize = 3)\n",
    "\n",
    "print(q.qsize())\n",
    "\n",
    "\n",
    "q.put('a')\n",
    "q.put('b')\n",
    "q.put('c')\n",
    "\n",
    "\n",
    "print(\"\\nFull: \", q.full())\n",
    "\n",
    "print(\"\\nElements dequeued from the queue\")\n",
    "print(q.get())\n",
    "print(q.get())\n",
    "print(q.get())\n",
    "\n",
    "\n",
    "print(\"\\nEmpty: \", q.empty())\n",
    "\n",
    "q.put(1)\n",
    "print(\"\\nEmpty: \", q.empty())\n",
    "print(\"Full: \", q.full())\n",
    "\n",
    "\n",
    "\n"
   ]
  },
  {
   "cell_type": "code",
   "execution_count": null,
   "id": "f33c069e",
   "metadata": {},
   "outputs": [],
   "source": []
  }
 ],
 "metadata": {
  "kernelspec": {
   "display_name": "Python 3 (ipykernel)",
   "language": "python",
   "name": "python3"
  },
  "language_info": {
   "codemirror_mode": {
    "name": "ipython",
    "version": 3
   },
   "file_extension": ".py",
   "mimetype": "text/x-python",
   "name": "python",
   "nbconvert_exporter": "python",
   "pygments_lexer": "ipython3",
   "version": "3.10.0"
  }
 },
 "nbformat": 4,
 "nbformat_minor": 5
}
