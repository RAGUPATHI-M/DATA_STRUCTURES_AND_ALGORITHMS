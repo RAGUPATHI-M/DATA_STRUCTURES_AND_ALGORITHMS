{
 "cells": [
  {
   "cell_type": "markdown",
   "id": "5774c527",
   "metadata": {},
   "source": [
    "# STACK"
   ]
  },
  {
   "cell_type": "markdown",
   "id": "ba0c9599",
   "metadata": {},
   "source": [
    "## Several way to implement stack-\n",
    "\n",
    "### list\n",
    "\n",
    "### collections.deque\n",
    "\n",
    "### queue.LifoQueue"
   ]
  },
  {
   "cell_type": "markdown",
   "id": "3c130adb",
   "metadata": {},
   "source": [
    "# List"
   ]
  },
  {
   "cell_type": "code",
   "execution_count": 1,
   "id": "3389e7c9",
   "metadata": {},
   "outputs": [
    {
     "data": {
      "text/plain": [
       "['Hello', 'World']"
      ]
     },
     "execution_count": 1,
     "metadata": {},
     "output_type": "execute_result"
    }
   ],
   "source": [
    "#push\n",
    "stack = []\n",
    "stack.append(\"Hello\")\n",
    "stack.append(\"World\")\n",
    "stack\n"
   ]
  },
  {
   "cell_type": "code",
   "execution_count": 2,
   "id": "5fa025a5",
   "metadata": {},
   "outputs": [
    {
     "data": {
      "text/plain": [
       "'World'"
      ]
     },
     "execution_count": 2,
     "metadata": {},
     "output_type": "execute_result"
    }
   ],
   "source": [
    "#pop\n",
    "stack.pop()"
   ]
  },
  {
   "cell_type": "code",
   "execution_count": 3,
   "id": "61bbdd1f",
   "metadata": {},
   "outputs": [
    {
     "name": "stdout",
     "output_type": "stream",
     "text": [
      "1\n"
     ]
    }
   ],
   "source": [
    "#length\n",
    "print(len(stack))"
   ]
  },
  {
   "cell_type": "markdown",
   "id": "496651cd",
   "metadata": {},
   "source": [
    "# Collection.deque"
   ]
  },
  {
   "cell_type": "code",
   "execution_count": 4,
   "id": "4e6cce07",
   "metadata": {},
   "outputs": [
    {
     "data": {
      "text/plain": [
       "deque(['hello', 'world'])"
      ]
     },
     "execution_count": 4,
     "metadata": {},
     "output_type": "execute_result"
    }
   ],
   "source": [
    "from collections import deque\n",
    "stack = deque()\n",
    "#push\n",
    "stack.append(\"hello\")\n",
    "stack.append(\"world\")\n",
    "stack"
   ]
  },
  {
   "cell_type": "code",
   "execution_count": 5,
   "id": "fe019fd7",
   "metadata": {},
   "outputs": [
    {
     "data": {
      "text/plain": [
       "'world'"
      ]
     },
     "execution_count": 5,
     "metadata": {},
     "output_type": "execute_result"
    }
   ],
   "source": [
    "#pop\n",
    "stack.pop()"
   ]
  },
  {
   "cell_type": "markdown",
   "id": "bb4d2637",
   "metadata": {},
   "source": [
    "# queue.LifoQueue"
   ]
  },
  {
   "cell_type": "code",
   "execution_count": 6,
   "id": "5d5330c1",
   "metadata": {},
   "outputs": [
    {
     "name": "stdout",
     "output_type": "stream",
     "text": [
      "3\n",
      "True\n"
     ]
    }
   ],
   "source": [
    "from  queue import LifoQueue\n",
    "\n",
    "stack = LifoQueue(maxsize=3)\n",
    "#push\n",
    "stack.put(\"Hello\")\n",
    "stack.put(\"World\")\n",
    "stack.put(\" !\")\n",
    "print(stack.qsize())\n",
    "print(stack.full())"
   ]
  },
  {
   "cell_type": "code",
   "execution_count": 7,
   "id": "1ebf47d3",
   "metadata": {},
   "outputs": [
    {
     "data": {
      "text/plain": [
       "' !'"
      ]
     },
     "execution_count": 7,
     "metadata": {},
     "output_type": "execute_result"
    }
   ],
   "source": [
    "#pop\n",
    "stack.get()"
   ]
  },
  {
   "cell_type": "code",
   "execution_count": 8,
   "id": "563225c3",
   "metadata": {},
   "outputs": [
    {
     "data": {
      "text/plain": [
       "False"
      ]
     },
     "execution_count": 8,
     "metadata": {},
     "output_type": "execute_result"
    }
   ],
   "source": [
    "stack.empty()"
   ]
  },
  {
   "cell_type": "code",
   "execution_count": null,
   "id": "cd5f4d50",
   "metadata": {},
   "outputs": [],
   "source": []
  },
  {
   "cell_type": "code",
   "execution_count": null,
   "id": "471ee262",
   "metadata": {},
   "outputs": [],
   "source": []
  },
  {
   "cell_type": "code",
   "execution_count": null,
   "id": "956ddef3",
   "metadata": {},
   "outputs": [],
   "source": []
  }
 ],
 "metadata": {
  "kernelspec": {
   "display_name": "Python 3 (ipykernel)",
   "language": "python",
   "name": "python3"
  },
  "language_info": {
   "codemirror_mode": {
    "name": "ipython",
    "version": 3
   },
   "file_extension": ".py",
   "mimetype": "text/x-python",
   "name": "python",
   "nbconvert_exporter": "python",
   "pygments_lexer": "ipython3",
   "version": "3.10.0"
  }
 },
 "nbformat": 4,
 "nbformat_minor": 5
}
