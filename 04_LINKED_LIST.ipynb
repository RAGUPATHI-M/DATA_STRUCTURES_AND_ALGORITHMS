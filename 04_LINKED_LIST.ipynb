{
 "cells": [
  {
   "cell_type": "markdown",
   "id": "db12c41f",
   "metadata": {},
   "source": [
    "#  LINKED LIST"
   ]
  },
  {
   "cell_type": "markdown",
   "id": "5dd4eef8",
   "metadata": {},
   "source": [
    "IT IS A COLLECTION OR GROUP OF NODES\n",
    "\n",
    "EACH NODE CONTAINS DATA AND REFERENCE(POINTER)WHICH CONTAINS THE ADDRESS OF NEXT NODE\n",
    "\n",
    "IT IS A LINER DATA STRUCTURE\n",
    "\n",
    "ELEMENTS ARE STORED RANDOMLY IN MEMORY"
   ]
  },
  {
   "cell_type": "markdown",
   "id": "6860d379",
   "metadata": {},
   "source": [
    "## SINGLY LINKED LIST"
   ]
  },
  {
   "cell_type": "code",
   "execution_count": 6,
   "id": "3683a1b1",
   "metadata": {},
   "outputs": [],
   "source": [
    "##creating a node\n",
    "class node:\n",
    "    def __init__(self,data):\n",
    "        self.data=data\n",
    "        self.reference = None"
   ]
  },
  {
   "cell_type": "code",
   "execution_count": 7,
   "id": "7fe18d95",
   "metadata": {},
   "outputs": [],
   "source": [
    "#creating a link \n",
    "class singly:\n",
    "    def __init__(self):\n",
    "        self.head = None\n",
    "        \n",
    "singlelinklist = singly()        \n"
   ]
  },
  {
   "cell_type": "code",
   "execution_count": 12,
   "id": "373b1883",
   "metadata": {},
   "outputs": [],
   "source": [
    "node1=singly()\n",
    "node1.head = node(\"first\")\n",
    "node2 = node(\"second\")\n",
    "node3 = node(\"three\")\n",
    "node1.head.reference = node2\n"
   ]
  },
  {
   "cell_type": "code",
   "execution_count": null,
   "id": "b81a9633",
   "metadata": {},
   "outputs": [],
   "source": []
  },
  {
   "cell_type": "code",
   "execution_count": null,
   "id": "1ec59bba",
   "metadata": {},
   "outputs": [],
   "source": []
  },
  {
   "cell_type": "code",
   "execution_count": null,
   "id": "f2ad4e8a",
   "metadata": {},
   "outputs": [],
   "source": []
  },
  {
   "cell_type": "code",
   "execution_count": null,
   "id": "ac4f8e97",
   "metadata": {},
   "outputs": [],
   "source": []
  },
  {
   "cell_type": "code",
   "execution_count": null,
   "id": "4585722f",
   "metadata": {},
   "outputs": [],
   "source": []
  }
 ],
 "metadata": {
  "kernelspec": {
   "display_name": "Python 3 (ipykernel)",
   "language": "python",
   "name": "python3"
  },
  "language_info": {
   "codemirror_mode": {
    "name": "ipython",
    "version": 3
   },
   "file_extension": ".py",
   "mimetype": "text/x-python",
   "name": "python",
   "nbconvert_exporter": "python",
   "pygments_lexer": "ipython3",
   "version": "3.10.0"
  }
 },
 "nbformat": 4,
 "nbformat_minor": 5
}
