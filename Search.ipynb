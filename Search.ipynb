{
 "cells": [
  {
   "cell_type": "markdown",
   "id": "63e75a4b",
   "metadata": {},
   "source": [
    "# Linear Search"
   ]
  },
  {
   "cell_type": "code",
   "execution_count": 6,
   "id": "c4879b6a",
   "metadata": {},
   "outputs": [
    {
     "name": "stdout",
     "output_type": "stream",
     "text": [
      "Enter is present at index  5\n"
     ]
    }
   ],
   "source": [
    "def search(lst,n,x):\n",
    "    for i in range(0,n):\n",
    "        if (lst[i] == x):\n",
    "            return i\n",
    "    return -1    \n",
    "lst = list(range(0,31,2))\n",
    "x=10\n",
    "n = len(lst)\n",
    "\n",
    "result = search(lst, n , x)\n",
    "if(result == -1):\n",
    "    print(\"Enter is not present in list\")\n",
    "else:\n",
    "    print(\"Enter is present at index \", result)"
   ]
  },
  {
   "cell_type": "markdown",
   "id": "f008523a",
   "metadata": {},
   "source": [
    "# Binary Search"
   ]
  },
  {
   "cell_type": "code",
   "execution_count": null,
   "id": "0de24de4",
   "metadata": {},
   "outputs": [],
   "source": [
    "def binarySearch(arr ,1,r,x):\n",
    "    if r >= 1:\n",
    "        mid = 1 + (r-1)//2\n",
    "        if arr[mid] == x:\n",
    "            return mid\n",
    "        elif arr[mid]>x:\n",
    "            return binarySearch(arr,1,mid-1,x)\n",
    "        else:\n",
    "            return binarySearch(arr ,mid+1)"
   ]
  }
 ],
 "metadata": {
  "kernelspec": {
   "display_name": "Python 3 (ipykernel)",
   "language": "python",
   "name": "python3"
  },
  "language_info": {
   "codemirror_mode": {
    "name": "ipython",
    "version": 3
   },
   "file_extension": ".py",
   "mimetype": "text/x-python",
   "name": "python",
   "nbconvert_exporter": "python",
   "pygments_lexer": "ipython3",
   "version": "3.10.0"
  }
 },
 "nbformat": 4,
 "nbformat_minor": 5
}
