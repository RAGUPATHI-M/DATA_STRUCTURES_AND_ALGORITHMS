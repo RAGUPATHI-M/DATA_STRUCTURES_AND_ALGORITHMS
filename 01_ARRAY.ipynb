{
 "cells": [
  {
   "cell_type": "markdown",
   "id": "8c9e9f24",
   "metadata": {},
   "source": [
    "DATA STRUCTURES AND ALGORITHMS\n",
    "====================\n"
   ]
  },
  {
   "cell_type": "markdown",
   "id": "45396adc",
   "metadata": {},
   "source": [
    "## ARRAY\n"
   ]
  },
  {
   "cell_type": "code",
   "execution_count": 1,
   "id": "6b9b636b",
   "metadata": {},
   "outputs": [],
   "source": [
    "#liner Data Structure\n",
    "\n",
    "#Contiguous memory locatioins\n",
    "\n",
    "#Acess elements rendomly\n",
    "\n",
    "#Homogeneous elements i.e similar elements\n",
    "\n"
   ]
  },
  {
   "cell_type": "markdown",
   "id": "73b383a1",
   "metadata": {},
   "source": [
    "Create a one dimensional integer array and insert numbers to the maimum size provided until the end of array. access the numbers inserted and then display the same as output."
   ]
  },
  {
   "cell_type": "code",
   "execution_count": 2,
   "id": "cc1b1e84",
   "metadata": {},
   "outputs": [
    {
     "name": "stdout",
     "output_type": "stream",
     "text": [
      "How many element to store inside the array3\n",
      "\n",
      "Enter 3 Element:\n",
      "1\n",
      "2\n",
      "3\n",
      "\n",
      " The array elements are\n",
      "1 2 3 "
     ]
    }
   ],
   "source": [
    "print(\"How many element to store inside the array\",end=\"\")\n",
    "num = input()\n",
    "arr = []\n",
    "print(\"\\nEnter\",num,\"Element:\",end='\\n')\n",
    "num = int(num)\n",
    "for i in range(num):\n",
    "    element = input()\n",
    "    arr.append(element)\n",
    "print(\"\\n The array elements are\")\n",
    "for i in range(num):\n",
    "     print(arr[i],end=\" \")"
   ]
  },
  {
   "cell_type": "markdown",
   "id": "64e19146",
   "metadata": {},
   "source": [
    "Create a one dimensional integer array using array module:"
   ]
  },
  {
   "cell_type": "code",
   "execution_count": 3,
   "id": "a7e4b136",
   "metadata": {},
   "outputs": [
    {
     "data": {
      "text/plain": [
       "array('i', [1, 2, 3, 4, 5, 6, 7, 8, 9, 10])"
      ]
     },
     "execution_count": 3,
     "metadata": {},
     "output_type": "execute_result"
    }
   ],
   "source": [
    "import array\n",
    "int_array = array.array('i',[1,2,3,4,5,6,7,8,9,10])\n",
    "int_array"
   ]
  },
  {
   "cell_type": "code",
   "execution_count": 4,
   "id": "ae0ec579",
   "metadata": {},
   "outputs": [
    {
     "name": "stdout",
     "output_type": "stream",
     "text": [
      "2.5 \n",
      " 3.2 \n",
      " 3.3 \n",
      " "
     ]
    }
   ],
   "source": [
    "# creating an array with float type\n",
    "float_array = array.array('d', [2.5, 3.2, 3.3])\n",
    "for i in float_array:\n",
    "    print (i , end =\" \\n \")"
   ]
  },
  {
   "cell_type": "markdown",
   "id": "fd92058a",
   "metadata": {},
   "source": [
    "Create a two-dimensional integer array and insert numbers to the maximum size provided until the end of the array.\n",
    "\n",
    "Access the numbers inserted and then display the same as output."
   ]
  },
  {
   "cell_type": "code",
   "execution_count": 5,
   "id": "34dc6e86",
   "metadata": {},
   "outputs": [
    {
     "name": "stdout",
     "output_type": "stream",
     "text": [
      "Enter the number of rows: 3\n",
      "Enter the number of columns: 3\n",
      "[[0, 0, 0], [0, 1, 2], [0, 2, 4]]\n"
     ]
    }
   ],
   "source": [
    "rows = int(input(\"Enter the number of rows: \"))\n",
    "columns = int(input(\"Enter the number of columns: \"))\n",
    "two_dimensional =[[0 for column in range(columns)]for row in range(rows)]\n",
    "\n",
    "for row in range(rows):\n",
    "    for column in range(rows):\n",
    "        two_dimensional[row][column] = row*column\n",
    "print(two_dimensional)"
   ]
  },
  {
   "cell_type": "markdown",
   "id": "5fd3289e",
   "metadata": {},
   "source": [
    " \n",
    "Accessing element of array"
   ]
  },
  {
   "cell_type": "code",
   "execution_count": 6,
   "id": "001ac249",
   "metadata": {},
   "outputs": [
    {
     "name": "stdout",
     "output_type": "stream",
     "text": [
      "Access element is:  1\n",
      "Access element is:  4\n",
      "Access element is:  3.2\n",
      "Access element is:  3.3\n"
     ]
    }
   ],
   "source": [
    "import array as arr\n",
    " \n",
    "a = arr.array('i', [1, 2, 3, 4, 5, 6])\n",
    "\n",
    "print(\"Access element is: \", a[0])\n",
    "print(\"Access element is: \", a[3])\n",
    "\n",
    "\n",
    " \n",
    "b = arr.array('d', [2.5, 3.2, 3.3])\n",
    "\n",
    "print(\"Access element is: \", b[1])\n",
    "\n",
    "print(\"Access element is: \", b[-1])"
   ]
  },
  {
   "cell_type": "markdown",
   "id": "a367343f",
   "metadata": {},
   "source": [
    "Adding Elements to a Array\n",
    " "
   ]
  },
  {
   "cell_type": "code",
   "execution_count": 7,
   "id": "981eb786",
   "metadata": {},
   "outputs": [
    {
     "name": "stdout",
     "output_type": "stream",
     "text": [
      "Array :  1 2 3 \n",
      "Array after insertion   :  1 4 2 3 \n",
      "Array after overwriting :  12 4 2 3 \n",
      "Array after appending   :  12 4 2 3 8 "
     ]
    }
   ],
   "source": [
    "import array as arr\n",
    " \n",
    "a = arr.array('i', [1, 2, 3])\n",
    " \n",
    " \n",
    "print (\"Array : \", end =\" \")\n",
    "for i in a:\n",
    "    print (i, end =\" \")\n",
    "\n",
    "print()\n",
    "\n",
    "\n",
    "# inserting array using\n",
    "\n",
    "a.insert(1, 4)\n",
    " \n",
    "print (\"Array after insertion   : \", end =\" \")\n",
    "for i in (a):\n",
    "    print (i, end =\" \")\n",
    "    \n",
    "print()\n",
    "\n",
    "\n",
    "#overwriting array \n",
    "\n",
    "a[0] = 12\n",
    "\n",
    "print (\"Array after overwriting : \", end =\" \")\n",
    "for i in (a):\n",
    "    print (i, end =\" \")\n",
    "\n",
    "print()    \n",
    "#append array\n",
    "\n",
    "x = 8\n",
    "\n",
    "a.append(x)\n",
    "print (\"Array after appending   : \", end =\" \")\n",
    "for i in (a):\n",
    "    print (i, end =\" \")"
   ]
  },
  {
   "cell_type": "markdown",
   "id": "3a4e5879",
   "metadata": {},
   "source": [
    "Remove element fron array"
   ]
  },
  {
   "cell_type": "code",
   "execution_count": 8,
   "id": "bb53d645",
   "metadata": {},
   "outputs": [
    {
     "name": "stdout",
     "output_type": "stream",
     "text": [
      "The new created array is : 1 2 3 1 5 \n",
      "The popped element is : 5\n",
      "The array after popping is : 1 2 3 1 \n",
      "The array after removing is : 2 3 1 \n",
      "The array after deleting : 2 3 "
     ]
    }
   ],
   "source": [
    "arr = array.array('i', [1, 2, 3, 1, 5])\n",
    " \n",
    "\n",
    "print (\"The new created array is : \", end =\"\")\n",
    "for i in  arr:\n",
    "    print (i, end =\" \")\n",
    "print()\n",
    "\n",
    "\n",
    "print (\"The popped element is : \", end =\"\")\n",
    "print (arr.pop())\n",
    "print (\"The array after popping is : \", end =\"\")\n",
    "for i in arr:\n",
    "    print (i, end =\" \")\n",
    "print()\n",
    " \n",
    "\n",
    "arr.remove(1)\n",
    "print (\"The array after removing is : \", end =\"\")\n",
    "for i in  arr:\n",
    "    print (i, end =\" \")\n",
    "print()    \n",
    "    \n",
    "del arr[2]\n",
    "print (\"The array after deleting : \", end =\"\")\n",
    "for i in  arr:\n",
    "    print (i, end =\" \")\n"
   ]
  },
  {
   "cell_type": "markdown",
   "id": "ffd0cf28",
   "metadata": {},
   "source": [
    "Slicing of a Array"
   ]
  },
  {
   "cell_type": "code",
   "execution_count": 9,
   "id": "c16a47dd",
   "metadata": {},
   "outputs": [
    {
     "name": "stdout",
     "output_type": "stream",
     "text": [
      "Initial Array: \n",
      "1 2 3 4 5 6 7 8 9 10 \n",
      "Slicing elements in a range 3-8: \n",
      "array('i', [4, 5, 6, 7, 8])\n",
      "\n",
      "Elements sliced from 5th element till the end: \n",
      "array('i', [6, 7, 8, 9, 10])\n",
      "\n",
      "Printing all elements using slice operation: \n",
      "array('i', [1, 2, 3, 4, 5, 6, 7, 8, 9, 10])\n"
     ]
    }
   ],
   "source": [
    "l = [1, 2, 3, 4, 5, 6, 7, 8, 9, 10]\n",
    " \n",
    "a = array.array('i', l)\n",
    "print(\"Initial Array: \")\n",
    "for i in (a):\n",
    "    print(i, end =\" \")\n",
    " \n",
    "\n",
    "Sliced_array = a[3:8]\n",
    "print(\"\\nSlicing elements in a range 3-8: \")\n",
    "print(Sliced_array)\n",
    " \n",
    "\n",
    "Sliced_array = a[5:]\n",
    "print(\"\\nElements sliced from 5th \"\n",
    "      \"element till the end: \")\n",
    "print(Sliced_array)\n",
    " \n",
    "\n",
    "Sliced_array = a[:]\n",
    "print(\"\\nPrinting all elements using slice operation: \")\n",
    "print(Sliced_array)"
   ]
  },
  {
   "cell_type": "markdown",
   "id": "61de7ec2",
   "metadata": {},
   "source": [
    "Searching element in a Array"
   ]
  },
  {
   "cell_type": "code",
   "execution_count": 10,
   "id": "7d749eca",
   "metadata": {},
   "outputs": [
    {
     "name": "stdout",
     "output_type": "stream",
     "text": [
      "The index of 1st occurrence of 9 is : 5\n",
      "The index of 1st occurrence of 1 is : 0\n"
     ]
    }
   ],
   "source": [
    "import array\n",
    "arr = array.array('i', [1, 2, 3, 1, 2,9 ,5])\n",
    "\n",
    "print (\"The index of 1st occurrence of 9 is : \", end =\"\")\n",
    "print (arr.index(9))\n",
    "\n",
    " \n",
    "print (\"The index of 1st occurrence of 1 is : \", end =\"\")\n",
    "print (arr.index(1))\n"
   ]
  },
  {
   "cell_type": "markdown",
   "id": "9eef27a5",
   "metadata": {},
   "source": [
    "Sorting element in a Array"
   ]
  },
  {
   "cell_type": "code",
   "execution_count": 11,
   "id": "539ee6b6",
   "metadata": {},
   "outputs": [
    {
     "name": "stdout",
     "output_type": "stream",
     "text": [
      "original array\n",
      "1 2 3 1 2 9 5 \n",
      "Ascending order\n",
      "1 1 2 2 3 5 9 "
     ]
    }
   ],
   "source": [
    "arr = array.array('i', [1, 2, 3, 1, 2,9 ,5])\n",
    "temp = 0\n",
    "print(\"original array\")\n",
    "for x in arr:\n",
    "    print(x,end=' ')\n",
    "    \n",
    "for i in range(0,len(arr)):\n",
    "    for j in range(i+1,len(arr)):\n",
    "        if arr[i] > arr[j]:\n",
    "            temp = arr[i]\n",
    "            arr[i] = arr[j]\n",
    "            arr[j] = temp\n",
    "print()            \n",
    "print(\"Ascending order\")\n",
    "for x in arr:\n",
    "    print(x, end=' ')"
   ]
  },
  {
   "cell_type": "code",
   "execution_count": 12,
   "id": "d170280e",
   "metadata": {},
   "outputs": [
    {
     "name": "stdout",
     "output_type": "stream",
     "text": [
      "Ascending order\n"
     ]
    },
    {
     "data": {
      "text/plain": [
       "[1, 1, 2, 2, 3, 5, 9]"
      ]
     },
     "execution_count": 12,
     "metadata": {},
     "output_type": "execute_result"
    }
   ],
   "source": [
    "print(\"Ascending order\")\n",
    "sorted(arr )"
   ]
  },
  {
   "cell_type": "code",
   "execution_count": 13,
   "id": "70b18d28",
   "metadata": {},
   "outputs": [
    {
     "name": "stdout",
     "output_type": "stream",
     "text": [
      "original array\n",
      "1 2 3 1 2 9 5 \n",
      "descending order\n",
      "9 5 3 2 2 1 1 "
     ]
    }
   ],
   "source": [
    "arr = array.array('i', [1, 2, 3, 1, 2,9 ,5])\n",
    "temp = 0\n",
    "print(\"original array\")\n",
    "for x in arr:\n",
    "    print(x,end=' ')\n",
    "    \n",
    "for i in range(0,len(arr)):\n",
    "    for j in range(0,len(arr)):\n",
    "        if arr[i] > arr[j]:\n",
    "            temp = arr[i]\n",
    "            arr[i] = arr[j]\n",
    "            arr[j] = temp\n",
    "print()            \n",
    "print(\"descending order\")\n",
    "for x in arr:\n",
    "    print(x, end=' ')"
   ]
  },
  {
   "cell_type": "code",
   "execution_count": 14,
   "id": "b2ba7ebc",
   "metadata": {},
   "outputs": [
    {
     "name": "stdout",
     "output_type": "stream",
     "text": [
      "descending order\n"
     ]
    },
    {
     "data": {
      "text/plain": [
       "[9, 5, 3, 2, 2, 1, 1]"
      ]
     },
     "execution_count": 14,
     "metadata": {},
     "output_type": "execute_result"
    }
   ],
   "source": [
    "print(\"descending order\")\n",
    "sorted(arr,reverse = True)"
   ]
  },
  {
   "cell_type": "code",
   "execution_count": null,
   "id": "ac298261",
   "metadata": {},
   "outputs": [],
   "source": []
  }
 ],
 "metadata": {
  "kernelspec": {
   "display_name": "Python 3 (ipykernel)",
   "language": "python",
   "name": "python3"
  },
  "language_info": {
   "codemirror_mode": {
    "name": "ipython",
    "version": 3
   },
   "file_extension": ".py",
   "mimetype": "text/x-python",
   "name": "python",
   "nbconvert_exporter": "python",
   "pygments_lexer": "ipython3",
   "version": "3.10.0"
  }
 },
 "nbformat": 4,
 "nbformat_minor": 5
}
